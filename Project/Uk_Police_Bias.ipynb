{
  "nbformat": 4,
  "nbformat_minor": 0,
  "metadata": {
    "colab": {
      "name": "Uk-Police-Bias.ipynb",
      "provenance": [],
      "authorship_tag": "ABX9TyOxjIzdC4W2u5ZWLT9UZQYZ",
      "include_colab_link": true
    },
    "kernelspec": {
      "name": "python3",
      "display_name": "Python 3"
    }
  },
  "cells": [
    {
      "cell_type": "markdown",
      "metadata": {
        "id": "view-in-github",
        "colab_type": "text"
      },
      "source": [
        "<a href=\"https://colab.research.google.com/github/dushyanthbommana/CE888/blob/main/Project/Uk_Police_Bias.ipynb\" target=\"_parent\"><img src=\"https://colab.research.google.com/assets/colab-badge.svg\" alt=\"Open In Colab\"/></a>"
      ]
    },
    {
      "cell_type": "code",
      "metadata": {
        "id": "XCqAWnvWms1Z"
      },
      "source": [
        "import pandas as pd\r\n",
        "import numpy as np\r\n",
        "import seaborn as sns\r\n",
        "import matplotlib.pyplot as plt\r\n",
        "%matplotlib inline"
      ],
      "execution_count": 1,
      "outputs": []
    },
    {
      "cell_type": "code",
      "metadata": {
        "id": "zjjielQ_nOV3"
      },
      "source": [
        "df = pd.read_csv(\"https://raw.githubusercontent.com/dushyanthbommana/CE888/main/essex-stop-search.csv\")\r\n",
        "df.head()"
      ],
      "execution_count": null,
      "outputs": []
    },
    {
      "cell_type": "code",
      "metadata": {
        "colab": {
          "base_uri": "https://localhost:8080/",
          "height": 294
        },
        "id": "cfo8aaFvnisg",
        "outputId": "4121671a-1acf-4017-b785-ac2ca1b14b1e"
      },
      "source": [
        "df.describe()"
      ],
      "execution_count": 3,
      "outputs": [
        {
          "output_type": "execute_result",
          "data": {
            "text/html": [
              "<div>\n",
              "<style scoped>\n",
              "    .dataframe tbody tr th:only-of-type {\n",
              "        vertical-align: middle;\n",
              "    }\n",
              "\n",
              "    .dataframe tbody tr th {\n",
              "        vertical-align: top;\n",
              "    }\n",
              "\n",
              "    .dataframe thead th {\n",
              "        text-align: right;\n",
              "    }\n",
              "</style>\n",
              "<table border=\"1\" class=\"dataframe\">\n",
              "  <thead>\n",
              "    <tr style=\"text-align: right;\">\n",
              "      <th></th>\n",
              "      <th>Policing operation</th>\n",
              "      <th>Latitude</th>\n",
              "      <th>Longitude</th>\n",
              "    </tr>\n",
              "  </thead>\n",
              "  <tbody>\n",
              "    <tr>\n",
              "      <th>count</th>\n",
              "      <td>0.0</td>\n",
              "      <td>7494.000000</td>\n",
              "      <td>7494.000000</td>\n",
              "    </tr>\n",
              "    <tr>\n",
              "      <th>mean</th>\n",
              "      <td>NaN</td>\n",
              "      <td>51.714273</td>\n",
              "      <td>0.509850</td>\n",
              "    </tr>\n",
              "    <tr>\n",
              "      <th>std</th>\n",
              "      <td>NaN</td>\n",
              "      <td>0.277793</td>\n",
              "      <td>0.629549</td>\n",
              "    </tr>\n",
              "    <tr>\n",
              "      <th>min</th>\n",
              "      <td>NaN</td>\n",
              "      <td>50.692644</td>\n",
              "      <td>-8.065707</td>\n",
              "    </tr>\n",
              "    <tr>\n",
              "      <th>25%</th>\n",
              "      <td>NaN</td>\n",
              "      <td>51.567426</td>\n",
              "      <td>0.353087</td>\n",
              "    </tr>\n",
              "    <tr>\n",
              "      <th>50%</th>\n",
              "      <td>NaN</td>\n",
              "      <td>51.671251</td>\n",
              "      <td>0.520333</td>\n",
              "    </tr>\n",
              "    <tr>\n",
              "      <th>75%</th>\n",
              "      <td>NaN</td>\n",
              "      <td>51.812031</td>\n",
              "      <td>0.728510</td>\n",
              "    </tr>\n",
              "    <tr>\n",
              "      <th>max</th>\n",
              "      <td>NaN</td>\n",
              "      <td>54.948226</td>\n",
              "      <td>1.318035</td>\n",
              "    </tr>\n",
              "  </tbody>\n",
              "</table>\n",
              "</div>"
            ],
            "text/plain": [
              "       Policing operation     Latitude    Longitude\n",
              "count                 0.0  7494.000000  7494.000000\n",
              "mean                  NaN    51.714273     0.509850\n",
              "std                   NaN     0.277793     0.629549\n",
              "min                   NaN    50.692644    -8.065707\n",
              "25%                   NaN    51.567426     0.353087\n",
              "50%                   NaN    51.671251     0.520333\n",
              "75%                   NaN    51.812031     0.728510\n",
              "max                   NaN    54.948226     1.318035"
            ]
          },
          "metadata": {
            "tags": []
          },
          "execution_count": 3
        }
      ]
    },
    {
      "cell_type": "code",
      "metadata": {
        "id": "n3g7Fvhmnqye"
      },
      "source": [
        "df.info()"
      ],
      "execution_count": null,
      "outputs": []
    },
    {
      "cell_type": "code",
      "metadata": {
        "id": "ajc2nto8vCaQ"
      },
      "source": [
        "df.shape"
      ],
      "execution_count": null,
      "outputs": []
    },
    {
      "cell_type": "code",
      "metadata": {
        "colab": {
          "base_uri": "https://localhost:8080/",
          "height": 171
        },
        "id": "9P1qe3fUZGEM",
        "outputId": "d9569484-7446-48ae-de24-4834e2925fc6"
      },
      "source": [
        "clarity_color_table = pd.crosstab(index=df[\"Gender\"], \r\n",
        "                          columns=df[\"Age range\"])\r\n",
        "\r\n",
        "clarity_color_table"
      ],
      "execution_count": 16,
      "outputs": [
        {
          "output_type": "execute_result",
          "data": {
            "text/html": [
              "<div>\n",
              "<style scoped>\n",
              "    .dataframe tbody tr th:only-of-type {\n",
              "        vertical-align: middle;\n",
              "    }\n",
              "\n",
              "    .dataframe tbody tr th {\n",
              "        vertical-align: top;\n",
              "    }\n",
              "\n",
              "    .dataframe thead th {\n",
              "        text-align: right;\n",
              "    }\n",
              "</style>\n",
              "<table border=\"1\" class=\"dataframe\">\n",
              "  <thead>\n",
              "    <tr style=\"text-align: right;\">\n",
              "      <th>Age range</th>\n",
              "      <th>18-24</th>\n",
              "      <th>25-34</th>\n",
              "      <th>Oct-17</th>\n",
              "      <th>over 34</th>\n",
              "      <th>under 10</th>\n",
              "    </tr>\n",
              "    <tr>\n",
              "      <th>Gender</th>\n",
              "      <th></th>\n",
              "      <th></th>\n",
              "      <th></th>\n",
              "      <th></th>\n",
              "      <th></th>\n",
              "    </tr>\n",
              "  </thead>\n",
              "  <tbody>\n",
              "    <tr>\n",
              "      <th>Female</th>\n",
              "      <td>326</td>\n",
              "      <td>161</td>\n",
              "      <td>194</td>\n",
              "      <td>159</td>\n",
              "      <td>0</td>\n",
              "    </tr>\n",
              "    <tr>\n",
              "      <th>Male</th>\n",
              "      <td>2228</td>\n",
              "      <td>1300</td>\n",
              "      <td>1301</td>\n",
              "      <td>962</td>\n",
              "      <td>1</td>\n",
              "    </tr>\n",
              "    <tr>\n",
              "      <th>Other</th>\n",
              "      <td>7</td>\n",
              "      <td>0</td>\n",
              "      <td>1</td>\n",
              "      <td>0</td>\n",
              "      <td>0</td>\n",
              "    </tr>\n",
              "  </tbody>\n",
              "</table>\n",
              "</div>"
            ],
            "text/plain": [
              "Age range  18-24  25-34  Oct-17  over 34  under 10\n",
              "Gender                                            \n",
              "Female       326    161     194      159         0\n",
              "Male        2228   1300    1301      962         1\n",
              "Other          7      0       1        0         0"
            ]
          },
          "metadata": {
            "tags": []
          },
          "execution_count": 16
        }
      ]
    },
    {
      "cell_type": "code",
      "metadata": {
        "colab": {
          "base_uri": "https://localhost:8080/",
          "height": 294
        },
        "id": "CiOQe2hxcRCP",
        "outputId": "2c449736-9073-4541-a80e-10757f81725c"
      },
      "source": [
        "clarity_color_table = pd.crosstab(index=df[\"Legislation\"], \r\n",
        "                          columns=df[\"Type\"])\r\n",
        "clarity_color_table"
      ],
      "execution_count": 21,
      "outputs": [
        {
          "output_type": "execute_result",
          "data": {
            "text/html": [
              "<div>\n",
              "<style scoped>\n",
              "    .dataframe tbody tr th:only-of-type {\n",
              "        vertical-align: middle;\n",
              "    }\n",
              "\n",
              "    .dataframe tbody tr th {\n",
              "        vertical-align: top;\n",
              "    }\n",
              "\n",
              "    .dataframe thead th {\n",
              "        text-align: right;\n",
              "    }\n",
              "</style>\n",
              "<table border=\"1\" class=\"dataframe\">\n",
              "  <thead>\n",
              "    <tr style=\"text-align: right;\">\n",
              "      <th>Type</th>\n",
              "      <th>Person and Vehicle search</th>\n",
              "      <th>Person search</th>\n",
              "      <th>Vehicle search</th>\n",
              "    </tr>\n",
              "    <tr>\n",
              "      <th>Legislation</th>\n",
              "      <th></th>\n",
              "      <th></th>\n",
              "      <th></th>\n",
              "    </tr>\n",
              "  </thead>\n",
              "  <tbody>\n",
              "    <tr>\n",
              "      <th>Criminal Justice and Public Order Act 1994 (section 60)</th>\n",
              "      <td>0</td>\n",
              "      <td>17</td>\n",
              "      <td>0</td>\n",
              "    </tr>\n",
              "    <tr>\n",
              "      <th>Firearms Act 1968 (section 47)</th>\n",
              "      <td>15</td>\n",
              "      <td>22</td>\n",
              "      <td>2</td>\n",
              "    </tr>\n",
              "    <tr>\n",
              "      <th>Misuse of Drugs Act 1971 (section 23)</th>\n",
              "      <td>898</td>\n",
              "      <td>4086</td>\n",
              "      <td>429</td>\n",
              "    </tr>\n",
              "    <tr>\n",
              "      <th>Poaching Prevention Act 1862 (section 2)</th>\n",
              "      <td>1</td>\n",
              "      <td>6</td>\n",
              "      <td>0</td>\n",
              "    </tr>\n",
              "    <tr>\n",
              "      <th>Police and Criminal Evidence Act 1984 (section 1)</th>\n",
              "      <td>216</td>\n",
              "      <td>1975</td>\n",
              "      <td>110</td>\n",
              "    </tr>\n",
              "    <tr>\n",
              "      <th>Psychoactive Substances Act 2016 (s36(2))</th>\n",
              "      <td>0</td>\n",
              "      <td>1</td>\n",
              "      <td>0</td>\n",
              "    </tr>\n",
              "    <tr>\n",
              "      <th>Wildlife and Countryside Act 1981 (section 19)</th>\n",
              "      <td>0</td>\n",
              "      <td>1</td>\n",
              "      <td>0</td>\n",
              "    </tr>\n",
              "  </tbody>\n",
              "</table>\n",
              "</div>"
            ],
            "text/plain": [
              "Type                                                Person and Vehicle search  ...  Vehicle search\n",
              "Legislation                                                                    ...                \n",
              "Criminal Justice and Public Order Act 1994 (sec...                          0  ...               0\n",
              "Firearms Act 1968 (section 47)                                             15  ...               2\n",
              "Misuse of Drugs Act 1971 (section 23)                                     898  ...             429\n",
              "Poaching Prevention Act 1862 (section 2)                                    1  ...               0\n",
              "Police and Criminal Evidence Act 1984 (section 1)                         216  ...             110\n",
              "Psychoactive Substances Act 2016 (s36(2))                                   0  ...               0\n",
              "Wildlife and Countryside Act 1981 (section 19)                              0  ...               0\n",
              "\n",
              "[7 rows x 3 columns]"
            ]
          },
          "metadata": {
            "tags": []
          },
          "execution_count": 21
        }
      ]
    },
    {
      "cell_type": "code",
      "metadata": {
        "colab": {
          "base_uri": "https://localhost:8080/"
        },
        "id": "4YWwA078iBKf",
        "outputId": "7e7e582b-acea-4ce7-e0be-a6d65b256595"
      },
      "source": [
        "df.columns"
      ],
      "execution_count": 32,
      "outputs": [
        {
          "output_type": "execute_result",
          "data": {
            "text/plain": [
              "Index(['Type', 'Date', 'Part of a policing operation', 'Policing operation',\n",
              "       'Latitude', 'Longitude', 'Gender', 'Age range',\n",
              "       'Self-defined ethnicity', 'Officer-defined ethnicity', 'Legislation',\n",
              "       'Object of search', 'Outcome', 'Outcome linked to object of search',\n",
              "       'Removal of more than just outer clothing'],\n",
              "      dtype='object')"
            ]
          },
          "metadata": {
            "tags": []
          },
          "execution_count": 32
        }
      ]
    },
    {
      "cell_type": "code",
      "metadata": {
        "colab": {
          "base_uri": "https://localhost:8080/",
          "height": 309
        },
        "id": "lntJWAlpdICn",
        "outputId": "abd3921d-612f-4a90-d85e-5f87df6643a2"
      },
      "source": [
        "df.Gender.value_counts().plot(kind=\"bar\")"
      ],
      "execution_count": 37,
      "outputs": [
        {
          "output_type": "execute_result",
          "data": {
            "text/plain": [
              "<matplotlib.axes._subplots.AxesSubplot at 0x7fd2c0c09c10>"
            ]
          },
          "metadata": {
            "tags": []
          },
          "execution_count": 37
        },
        {
          "output_type": "display_data",
          "data": {
            "image/png": "[encoded data removed]",
            "text/plain": [
              "<Figure size 432x288 with 1 Axes>"
            ]
          },
          "metadata": {
            "tags": [],
            "needs_background": "light"
          }
        }
      ]
    }
  ]
}