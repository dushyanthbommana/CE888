{
  "nbformat": 4,
  "nbformat_minor": 0,
  "metadata": {
    "kernelspec": {
      "display_name": "Python 3",
      "language": "python",
      "name": "python3"
    },
    "language_info": {
      "codemirror_mode": {
        "name": "ipython",
        "version": 3
      },
      "file_extension": ".py",
      "mimetype": "text/x-python",
      "name": "python",
      "nbconvert_exporter": "python",
      "pygments_lexer": "ipython3",
      "version": "3.6.8"
    },
    "colab": {
      "name": "Essex Police bias detection.ipynb",
      "provenance": [],
      "collapsed_sections": [],
      "include_colab_link": true
    },
    "accelerator": "GPU"
  },
  "cells": [
    {
      "cell_type": "markdown",
      "metadata": {
        "id": "view-in-github",
        "colab_type": "text"
      },
      "source": [
        "<a href=\"https://colab.research.google.com/github/dushyanthbommana/CE888/blob/main/Assignment2/Essex_Police_bias_detection.ipynb\" target=\"_parent\"><img src=\"https://colab.research.google.com/assets/colab-badge.svg\" alt=\"Open In Colab\"/></a>"
      ]
    },
    {
      "cell_type": "code",
      "metadata": {
        "id": "qMUJt40sB-Hk"
      },
      "source": [
        "pip install aif360\n",
        "pip install fairlearn\n"
      ],
      "execution_count": null,
      "outputs": []
    },
    {
      "cell_type": "code",
      "metadata": {
        "id": "g7itAGwOA_TY"
      },
      "source": [
        "import pandas as pd\n",
        "import numpy as np\n",
        "import seaborn as sns\n",
        "import matplotlib.pyplot as plt\n",
        "from aif360.datasets import BinaryLabelDataset\n",
        "from aif360.algorithms.preprocessing import Reweighing\n",
        "from sklearn.preprocessing import StandardScaler\n",
        "from sklearn.linear_model import LogisticRegression\n",
        "from tqdm import tqdm\n",
        "np.random.seed(1)"
      ],
      "execution_count": 4,
      "outputs": []
    },
    {
      "cell_type": "code",
      "metadata": {
        "id": "4R6y7p9lA_Td"
      },
      "source": [
        "dataframe = pd.read_csv('https://raw.githubusercontent.com/dushyanthbommana/CE888/main/essex-stop-search.csv')"
      ],
      "execution_count": 5,
      "outputs": []
    },
    {
      "cell_type": "code",
      "metadata": {
        "colab": {
          "base_uri": "https://localhost:8080/",
          "height": 603
        },
        "id": "srMWouUUA_Tf",
        "outputId": "ad3bdb1b-e20b-4e3f-ec57-1f3c9a9dc84c"
      },
      "source": [
        "null = ['Part of a policing operation','Policing operation']\n",
        "df = dataframe.drop(columns=null,axis=1)\n",
        "df.head()"
      ],
      "execution_count": 6,
      "outputs": [
        {
          "output_type": "execute_result",
          "data": {
            "text/html": [
              "<div>\n",
              "<style scoped>\n",
              "    .dataframe tbody tr th:only-of-type {\n",
              "        vertical-align: middle;\n",
              "    }\n",
              "\n",
              "    .dataframe tbody tr th {\n",
              "        vertical-align: top;\n",
              "    }\n",
              "\n",
              "    .dataframe thead th {\n",
              "        text-align: right;\n",
              "    }\n",
              "</style>\n",
              "<table border=\"1\" class=\"dataframe\">\n",
              "  <thead>\n",
              "    <tr style=\"text-align: right;\">\n",
              "      <th></th>\n",
              "      <th>Type</th>\n",
              "      <th>Date</th>\n",
              "      <th>Latitude</th>\n",
              "      <th>Longitude</th>\n",
              "      <th>Gender</th>\n",
              "      <th>Age range</th>\n",
              "      <th>Self-defined ethnicity</th>\n",
              "      <th>Officer-defined ethnicity</th>\n",
              "      <th>Legislation</th>\n",
              "      <th>Object of search</th>\n",
              "      <th>Outcome</th>\n",
              "      <th>Outcome linked to object of search</th>\n",
              "      <th>Removal of more than just outer clothing</th>\n",
              "    </tr>\n",
              "  </thead>\n",
              "  <tbody>\n",
              "    <tr>\n",
              "      <th>0</th>\n",
              "      <td>Person search</td>\n",
              "      <td>2020-06-30T23:01:00+00:00</td>\n",
              "      <td>51.776969</td>\n",
              "      <td>1.119975</td>\n",
              "      <td>Male</td>\n",
              "      <td>18-24</td>\n",
              "      <td>White - English/Welsh/Scottish/Northern Irish/...</td>\n",
              "      <td>White</td>\n",
              "      <td>Police and Criminal Evidence Act 1984 (section 1)</td>\n",
              "      <td>Article for use in theft</td>\n",
              "      <td>A no further action disposal</td>\n",
              "      <td>False</td>\n",
              "      <td>False</td>\n",
              "    </tr>\n",
              "    <tr>\n",
              "      <th>1</th>\n",
              "      <td>Person search</td>\n",
              "      <td>2020-06-30T23:01:00+00:00</td>\n",
              "      <td>51.884603</td>\n",
              "      <td>0.921385</td>\n",
              "      <td>Male</td>\n",
              "      <td>over 34</td>\n",
              "      <td>White - English/Welsh/Scottish/Northern Irish/...</td>\n",
              "      <td>White</td>\n",
              "      <td>Misuse of Drugs Act 1971 (section 23)</td>\n",
              "      <td>Controlled drugs</td>\n",
              "      <td>Summons / charged by post</td>\n",
              "      <td>False</td>\n",
              "      <td>False</td>\n",
              "    </tr>\n",
              "    <tr>\n",
              "      <th>2</th>\n",
              "      <td>Person search</td>\n",
              "      <td>2020-07-01T00:01:00+00:00</td>\n",
              "      <td>51.567500</td>\n",
              "      <td>0.434043</td>\n",
              "      <td>Male</td>\n",
              "      <td>18-24</td>\n",
              "      <td>White - English/Welsh/Scottish/Northern Irish/...</td>\n",
              "      <td>White</td>\n",
              "      <td>Police and Criminal Evidence Act 1984 (section 1)</td>\n",
              "      <td>Stolen goods</td>\n",
              "      <td>A no further action disposal</td>\n",
              "      <td>False</td>\n",
              "      <td>False</td>\n",
              "    </tr>\n",
              "    <tr>\n",
              "      <th>3</th>\n",
              "      <td>Person and Vehicle search</td>\n",
              "      <td>2020-07-01T02:01:00+00:00</td>\n",
              "      <td>51.585496</td>\n",
              "      <td>0.500271</td>\n",
              "      <td>Female</td>\n",
              "      <td>over 34</td>\n",
              "      <td>White - English/Welsh/Scottish/Northern Irish/...</td>\n",
              "      <td>White</td>\n",
              "      <td>Misuse of Drugs Act 1971 (section 23)</td>\n",
              "      <td>Controlled drugs</td>\n",
              "      <td>A no further action disposal</td>\n",
              "      <td>False</td>\n",
              "      <td>False</td>\n",
              "    </tr>\n",
              "    <tr>\n",
              "      <th>4</th>\n",
              "      <td>Person and Vehicle search</td>\n",
              "      <td>2020-07-01T06:01:00+00:00</td>\n",
              "      <td>51.876726</td>\n",
              "      <td>1.006272</td>\n",
              "      <td>Male</td>\n",
              "      <td>18-24</td>\n",
              "      <td>White - English/Welsh/Scottish/Northern Irish/...</td>\n",
              "      <td>White</td>\n",
              "      <td>Misuse of Drugs Act 1971 (section 23)</td>\n",
              "      <td>Controlled drugs</td>\n",
              "      <td>NaN</td>\n",
              "      <td>False</td>\n",
              "      <td>False</td>\n",
              "    </tr>\n",
              "  </tbody>\n",
              "</table>\n",
              "</div>"
            ],
            "text/plain": [
              "                        Type  ... Removal of more than just outer clothing\n",
              "0              Person search  ...                                    False\n",
              "1              Person search  ...                                    False\n",
              "2              Person search  ...                                    False\n",
              "3  Person and Vehicle search  ...                                    False\n",
              "4  Person and Vehicle search  ...                                    False\n",
              "\n",
              "[5 rows x 13 columns]"
            ]
          },
          "metadata": {
            "tags": []
          },
          "execution_count": 6
        }
      ]
    },
    {
      "cell_type": "code",
      "metadata": {
        "colab": {
          "base_uri": "https://localhost:8080/",
          "height": 279
        },
        "id": "8WfOVMQqA_Th",
        "outputId": "63d3a6ca-8043-45aa-a2d9-b0ca41708902"
      },
      "source": [
        "df_updated = df.drop(columns=['Date','Latitude','Longitude'])\n",
        "df_updated.head(3)\n"
      ],
      "execution_count": 7,
      "outputs": [
        {
          "output_type": "execute_result",
          "data": {
            "text/html": [
              "<div>\n",
              "<style scoped>\n",
              "    .dataframe tbody tr th:only-of-type {\n",
              "        vertical-align: middle;\n",
              "    }\n",
              "\n",
              "    .dataframe tbody tr th {\n",
              "        vertical-align: top;\n",
              "    }\n",
              "\n",
              "    .dataframe thead th {\n",
              "        text-align: right;\n",
              "    }\n",
              "</style>\n",
              "<table border=\"1\" class=\"dataframe\">\n",
              "  <thead>\n",
              "    <tr style=\"text-align: right;\">\n",
              "      <th></th>\n",
              "      <th>Type</th>\n",
              "      <th>Gender</th>\n",
              "      <th>Age range</th>\n",
              "      <th>Self-defined ethnicity</th>\n",
              "      <th>Officer-defined ethnicity</th>\n",
              "      <th>Legislation</th>\n",
              "      <th>Object of search</th>\n",
              "      <th>Outcome</th>\n",
              "      <th>Outcome linked to object of search</th>\n",
              "      <th>Removal of more than just outer clothing</th>\n",
              "    </tr>\n",
              "  </thead>\n",
              "  <tbody>\n",
              "    <tr>\n",
              "      <th>0</th>\n",
              "      <td>Person search</td>\n",
              "      <td>Male</td>\n",
              "      <td>18-24</td>\n",
              "      <td>White - English/Welsh/Scottish/Northern Irish/...</td>\n",
              "      <td>White</td>\n",
              "      <td>Police and Criminal Evidence Act 1984 (section 1)</td>\n",
              "      <td>Article for use in theft</td>\n",
              "      <td>A no further action disposal</td>\n",
              "      <td>False</td>\n",
              "      <td>False</td>\n",
              "    </tr>\n",
              "    <tr>\n",
              "      <th>1</th>\n",
              "      <td>Person search</td>\n",
              "      <td>Male</td>\n",
              "      <td>over 34</td>\n",
              "      <td>White - English/Welsh/Scottish/Northern Irish/...</td>\n",
              "      <td>White</td>\n",
              "      <td>Misuse of Drugs Act 1971 (section 23)</td>\n",
              "      <td>Controlled drugs</td>\n",
              "      <td>Summons / charged by post</td>\n",
              "      <td>False</td>\n",
              "      <td>False</td>\n",
              "    </tr>\n",
              "    <tr>\n",
              "      <th>2</th>\n",
              "      <td>Person search</td>\n",
              "      <td>Male</td>\n",
              "      <td>18-24</td>\n",
              "      <td>White - English/Welsh/Scottish/Northern Irish/...</td>\n",
              "      <td>White</td>\n",
              "      <td>Police and Criminal Evidence Act 1984 (section 1)</td>\n",
              "      <td>Stolen goods</td>\n",
              "      <td>A no further action disposal</td>\n",
              "      <td>False</td>\n",
              "      <td>False</td>\n",
              "    </tr>\n",
              "  </tbody>\n",
              "</table>\n",
              "</div>"
            ],
            "text/plain": [
              "            Type  ... Removal of more than just outer clothing\n",
              "0  Person search  ...                                    False\n",
              "1  Person search  ...                                    False\n",
              "2  Person search  ...                                    False\n",
              "\n",
              "[3 rows x 10 columns]"
            ]
          },
          "metadata": {
            "tags": []
          },
          "execution_count": 7
        }
      ]
    },
    {
      "cell_type": "code",
      "metadata": {
        "id": "PDRBbRk1A_Ti"
      },
      "source": [
        "from sklearn import preprocessing \n",
        "label = preprocessing.LabelEncoder() \n",
        "cols=['Outcome linked to object of search','Removal of more than just outer clothing','Self-defined ethnicity']\n",
        "df[cols] = df[cols].astype(str)\n",
        "df1_lc = df[cols].apply(preprocessing.LabelEncoder().fit_transform)"
      ],
      "execution_count": 8,
      "outputs": []
    },
    {
      "cell_type": "code",
      "metadata": {
        "id": "BzqTWgJGA_Tj",
        "outputId": "ecd15248-a3ec-4e7a-cc88-c44aacaba325"
      },
      "source": [
        "df1_lc.head(4)"
      ],
      "execution_count": null,
      "outputs": [
        {
          "output_type": "execute_result",
          "data": {
            "text/html": [
              "<div>\n",
              "<style scoped>\n",
              "    .dataframe tbody tr th:only-of-type {\n",
              "        vertical-align: middle;\n",
              "    }\n",
              "\n",
              "    .dataframe tbody tr th {\n",
              "        vertical-align: top;\n",
              "    }\n",
              "\n",
              "    .dataframe thead th {\n",
              "        text-align: right;\n",
              "    }\n",
              "</style>\n",
              "<table border=\"1\" class=\"dataframe\">\n",
              "  <thead>\n",
              "    <tr style=\"text-align: right;\">\n",
              "      <th></th>\n",
              "      <th>Outcome linked to object of search</th>\n",
              "      <th>Removal of more than just outer clothing</th>\n",
              "      <th>Self-defined ethnicity</th>\n",
              "    </tr>\n",
              "  </thead>\n",
              "  <tbody>\n",
              "    <tr>\n",
              "      <th>0</th>\n",
              "      <td>0</td>\n",
              "      <td>0</td>\n",
              "      <td>13</td>\n",
              "    </tr>\n",
              "    <tr>\n",
              "      <th>1</th>\n",
              "      <td>0</td>\n",
              "      <td>0</td>\n",
              "      <td>13</td>\n",
              "    </tr>\n",
              "    <tr>\n",
              "      <th>2</th>\n",
              "      <td>1</td>\n",
              "      <td>0</td>\n",
              "      <td>15</td>\n",
              "    </tr>\n",
              "    <tr>\n",
              "      <th>3</th>\n",
              "      <td>1</td>\n",
              "      <td>0</td>\n",
              "      <td>15</td>\n",
              "    </tr>\n",
              "  </tbody>\n",
              "</table>\n",
              "</div>"
            ],
            "text/plain": [
              "   Outcome linked to object of search  \\\n",
              "0                                   0   \n",
              "1                                   0   \n",
              "2                                   1   \n",
              "3                                   1   \n",
              "\n",
              "   Removal of more than just outer clothing  Self-defined ethnicity  \n",
              "0                                         0                      13  \n",
              "1                                         0                      13  \n",
              "2                                         0                      15  \n",
              "3                                         0                      15  "
            ]
          },
          "metadata": {
            "tags": []
          },
          "execution_count": 77
        }
      ]
    },
    {
      "cell_type": "code",
      "metadata": {
        "id": "2gK-mjHGA_Tk"
      },
      "source": [
        "df_onehot = pd.concat([df1_lc, pd.get_dummies(df[['Gender', 'Outcome']])], axis=1)"
      ],
      "execution_count": 9,
      "outputs": []
    },
    {
      "cell_type": "code",
      "metadata": {
        "colab": {
          "base_uri": "https://localhost:8080/",
          "height": 247
        },
        "id": "UwlNmEj9A_Tl",
        "outputId": "54e94fcf-438c-4418-f0f0-5e9df41b8917"
      },
      "source": [
        "df_onehot.head(3)"
      ],
      "execution_count": 10,
      "outputs": [
        {
          "output_type": "execute_result",
          "data": {
            "text/html": [
              "<div>\n",
              "<style scoped>\n",
              "    .dataframe tbody tr th:only-of-type {\n",
              "        vertical-align: middle;\n",
              "    }\n",
              "\n",
              "    .dataframe tbody tr th {\n",
              "        vertical-align: top;\n",
              "    }\n",
              "\n",
              "    .dataframe thead th {\n",
              "        text-align: right;\n",
              "    }\n",
              "</style>\n",
              "<table border=\"1\" class=\"dataframe\">\n",
              "  <thead>\n",
              "    <tr style=\"text-align: right;\">\n",
              "      <th></th>\n",
              "      <th>Outcome linked to object of search</th>\n",
              "      <th>Removal of more than just outer clothing</th>\n",
              "      <th>Self-defined ethnicity</th>\n",
              "      <th>Gender_Female</th>\n",
              "      <th>Gender_Male</th>\n",
              "      <th>Gender_Other</th>\n",
              "      <th>Outcome_A no further action disposal</th>\n",
              "      <th>Outcome_Arrest</th>\n",
              "      <th>Outcome_Caution (simple or conditional)</th>\n",
              "      <th>Outcome_Community resolution</th>\n",
              "      <th>Outcome_Khat or Cannabis warning</th>\n",
              "      <th>Outcome_Penalty Notice for Disorder</th>\n",
              "      <th>Outcome_Summons / charged by post</th>\n",
              "    </tr>\n",
              "  </thead>\n",
              "  <tbody>\n",
              "    <tr>\n",
              "      <th>0</th>\n",
              "      <td>0</td>\n",
              "      <td>0</td>\n",
              "      <td>15</td>\n",
              "      <td>0</td>\n",
              "      <td>1</td>\n",
              "      <td>0</td>\n",
              "      <td>1</td>\n",
              "      <td>0</td>\n",
              "      <td>0</td>\n",
              "      <td>0</td>\n",
              "      <td>0</td>\n",
              "      <td>0</td>\n",
              "      <td>0</td>\n",
              "    </tr>\n",
              "    <tr>\n",
              "      <th>1</th>\n",
              "      <td>0</td>\n",
              "      <td>0</td>\n",
              "      <td>15</td>\n",
              "      <td>0</td>\n",
              "      <td>1</td>\n",
              "      <td>0</td>\n",
              "      <td>0</td>\n",
              "      <td>0</td>\n",
              "      <td>0</td>\n",
              "      <td>0</td>\n",
              "      <td>0</td>\n",
              "      <td>0</td>\n",
              "      <td>1</td>\n",
              "    </tr>\n",
              "    <tr>\n",
              "      <th>2</th>\n",
              "      <td>0</td>\n",
              "      <td>0</td>\n",
              "      <td>15</td>\n",
              "      <td>0</td>\n",
              "      <td>1</td>\n",
              "      <td>0</td>\n",
              "      <td>1</td>\n",
              "      <td>0</td>\n",
              "      <td>0</td>\n",
              "      <td>0</td>\n",
              "      <td>0</td>\n",
              "      <td>0</td>\n",
              "      <td>0</td>\n",
              "    </tr>\n",
              "  </tbody>\n",
              "</table>\n",
              "</div>"
            ],
            "text/plain": [
              "   Outcome linked to object of search  ...  Outcome_Summons / charged by post\n",
              "0                                   0  ...                                  0\n",
              "1                                   0  ...                                  1\n",
              "2                                   0  ...                                  0\n",
              "\n",
              "[3 rows x 13 columns]"
            ]
          },
          "metadata": {
            "tags": []
          },
          "execution_count": 10
        }
      ]
    },
    {
      "cell_type": "code",
      "metadata": {
        "colab": {
          "base_uri": "https://localhost:8080/",
          "height": 309
        },
        "id": "8SuKoCgPA_Tm",
        "outputId": "193656f5-4d93-434c-d99e-cdb2d39d1cba"
      },
      "source": [
        "df_final=df_onehot.dropna(axis=0)\n",
        "df_final.head()"
      ],
      "execution_count": 11,
      "outputs": [
        {
          "output_type": "execute_result",
          "data": {
            "text/html": [
              "<div>\n",
              "<style scoped>\n",
              "    .dataframe tbody tr th:only-of-type {\n",
              "        vertical-align: middle;\n",
              "    }\n",
              "\n",
              "    .dataframe tbody tr th {\n",
              "        vertical-align: top;\n",
              "    }\n",
              "\n",
              "    .dataframe thead th {\n",
              "        text-align: right;\n",
              "    }\n",
              "</style>\n",
              "<table border=\"1\" class=\"dataframe\">\n",
              "  <thead>\n",
              "    <tr style=\"text-align: right;\">\n",
              "      <th></th>\n",
              "      <th>Outcome linked to object of search</th>\n",
              "      <th>Removal of more than just outer clothing</th>\n",
              "      <th>Self-defined ethnicity</th>\n",
              "      <th>Gender_Female</th>\n",
              "      <th>Gender_Male</th>\n",
              "      <th>Gender_Other</th>\n",
              "      <th>Outcome_A no further action disposal</th>\n",
              "      <th>Outcome_Arrest</th>\n",
              "      <th>Outcome_Caution (simple or conditional)</th>\n",
              "      <th>Outcome_Community resolution</th>\n",
              "      <th>Outcome_Khat or Cannabis warning</th>\n",
              "      <th>Outcome_Penalty Notice for Disorder</th>\n",
              "      <th>Outcome_Summons / charged by post</th>\n",
              "    </tr>\n",
              "  </thead>\n",
              "  <tbody>\n",
              "    <tr>\n",
              "      <th>0</th>\n",
              "      <td>0</td>\n",
              "      <td>0</td>\n",
              "      <td>15</td>\n",
              "      <td>0</td>\n",
              "      <td>1</td>\n",
              "      <td>0</td>\n",
              "      <td>1</td>\n",
              "      <td>0</td>\n",
              "      <td>0</td>\n",
              "      <td>0</td>\n",
              "      <td>0</td>\n",
              "      <td>0</td>\n",
              "      <td>0</td>\n",
              "    </tr>\n",
              "    <tr>\n",
              "      <th>1</th>\n",
              "      <td>0</td>\n",
              "      <td>0</td>\n",
              "      <td>15</td>\n",
              "      <td>0</td>\n",
              "      <td>1</td>\n",
              "      <td>0</td>\n",
              "      <td>0</td>\n",
              "      <td>0</td>\n",
              "      <td>0</td>\n",
              "      <td>0</td>\n",
              "      <td>0</td>\n",
              "      <td>0</td>\n",
              "      <td>1</td>\n",
              "    </tr>\n",
              "    <tr>\n",
              "      <th>2</th>\n",
              "      <td>0</td>\n",
              "      <td>0</td>\n",
              "      <td>15</td>\n",
              "      <td>0</td>\n",
              "      <td>1</td>\n",
              "      <td>0</td>\n",
              "      <td>1</td>\n",
              "      <td>0</td>\n",
              "      <td>0</td>\n",
              "      <td>0</td>\n",
              "      <td>0</td>\n",
              "      <td>0</td>\n",
              "      <td>0</td>\n",
              "    </tr>\n",
              "    <tr>\n",
              "      <th>3</th>\n",
              "      <td>0</td>\n",
              "      <td>0</td>\n",
              "      <td>15</td>\n",
              "      <td>1</td>\n",
              "      <td>0</td>\n",
              "      <td>0</td>\n",
              "      <td>1</td>\n",
              "      <td>0</td>\n",
              "      <td>0</td>\n",
              "      <td>0</td>\n",
              "      <td>0</td>\n",
              "      <td>0</td>\n",
              "      <td>0</td>\n",
              "    </tr>\n",
              "    <tr>\n",
              "      <th>4</th>\n",
              "      <td>0</td>\n",
              "      <td>0</td>\n",
              "      <td>15</td>\n",
              "      <td>0</td>\n",
              "      <td>1</td>\n",
              "      <td>0</td>\n",
              "      <td>0</td>\n",
              "      <td>0</td>\n",
              "      <td>0</td>\n",
              "      <td>0</td>\n",
              "      <td>0</td>\n",
              "      <td>0</td>\n",
              "      <td>0</td>\n",
              "    </tr>\n",
              "  </tbody>\n",
              "</table>\n",
              "</div>"
            ],
            "text/plain": [
              "   Outcome linked to object of search  ...  Outcome_Summons / charged by post\n",
              "0                                   0  ...                                  0\n",
              "1                                   0  ...                                  1\n",
              "2                                   0  ...                                  0\n",
              "3                                   0  ...                                  0\n",
              "4                                   0  ...                                  0\n",
              "\n",
              "[5 rows x 13 columns]"
            ]
          },
          "metadata": {
            "tags": []
          },
          "execution_count": 11
        }
      ]
    },
    {
      "cell_type": "code",
      "metadata": {
        "colab": {
          "base_uri": "https://localhost:8080/"
        },
        "id": "DUbHMZwHA_Tn",
        "outputId": "63969f76-7481-4237-841b-3f4379f72a49"
      },
      "source": [
        "df_final['Outcome linked to object of search'].value_counts()"
      ],
      "execution_count": 12,
      "outputs": [
        {
          "output_type": "execute_result",
          "data": {
            "text/plain": [
              "2    4388\n",
              "0    2719\n",
              "1     683\n",
              "Name: Outcome linked to object of search, dtype: int64"
            ]
          },
          "metadata": {
            "tags": []
          },
          "execution_count": 12
        }
      ]
    },
    {
      "cell_type": "code",
      "metadata": {
        "colab": {
          "base_uri": "https://localhost:8080/"
        },
        "id": "v5sgcj18A_To",
        "outputId": "7f19244e-1dd1-4fe9-b26c-0c7de28a6483"
      },
      "source": [
        "df_final.info()"
      ],
      "execution_count": 13,
      "outputs": [
        {
          "output_type": "stream",
          "text": [
            "<class 'pandas.core.frame.DataFrame'>\n",
            "Int64Index: 7790 entries, 0 to 7789\n",
            "Data columns (total 13 columns):\n",
            " #   Column                                    Non-Null Count  Dtype\n",
            "---  ------                                    --------------  -----\n",
            " 0   Outcome linked to object of search        7790 non-null   int64\n",
            " 1   Removal of more than just outer clothing  7790 non-null   int64\n",
            " 2   Self-defined ethnicity                    7790 non-null   int64\n",
            " 3   Gender_Female                             7790 non-null   uint8\n",
            " 4   Gender_Male                               7790 non-null   uint8\n",
            " 5   Gender_Other                              7790 non-null   uint8\n",
            " 6   Outcome_A no further action disposal      7790 non-null   uint8\n",
            " 7   Outcome_Arrest                            7790 non-null   uint8\n",
            " 8   Outcome_Caution (simple or conditional)   7790 non-null   uint8\n",
            " 9   Outcome_Community resolution              7790 non-null   uint8\n",
            " 10  Outcome_Khat or Cannabis warning          7790 non-null   uint8\n",
            " 11  Outcome_Penalty Notice for Disorder       7790 non-null   uint8\n",
            " 12  Outcome_Summons / charged by post         7790 non-null   uint8\n",
            "dtypes: int64(3), uint8(10)\n",
            "memory usage: 319.5 KB\n"
          ],
          "name": "stdout"
        }
      ]
    },
    {
      "cell_type": "code",
      "metadata": {
        "id": "x0KljACQA_Tp"
      },
      "source": [
        "df_aif = BinaryLabelDataset(df= df_final.drop(['Gender_Female','Outcome_A no further action disposal','Outcome_Caution (simple or conditional)','Outcome_Khat or Cannabis warning','Outcome_Penalty Notice for Disorder','Outcome_Penalty Notice for Disorder','Outcome_Summons / charged by post'], axis=1), label_names=['Gender_Male'], protected_attribute_names=['Outcome_Arrest'])"
      ],
      "execution_count": 14,
      "outputs": []
    },
    {
      "cell_type": "code",
      "metadata": {
        "colab": {
          "base_uri": "https://localhost:8080/"
        },
        "id": "ibYYCFuIA_Tq",
        "outputId": "c29f0d50-32f2-4192-a0e9-4978cf91aaca"
      },
      "source": [
        "df_aif"
      ],
      "execution_count": 15,
      "outputs": [
        {
          "output_type": "execute_result",
          "data": {
            "text/plain": [
              "               instance weights  ... labels\n",
              "                                 ...       \n",
              "                                 ...       \n",
              "instance names                   ...       \n",
              "0                           1.0  ...    1.0\n",
              "1                           1.0  ...    1.0\n",
              "2                           1.0  ...    1.0\n",
              "3                           1.0  ...    0.0\n",
              "4                           1.0  ...    1.0\n",
              "...                         ...  ...    ...\n",
              "7785                        1.0  ...    1.0\n",
              "7786                        1.0  ...    1.0\n",
              "7787                        1.0  ...    0.0\n",
              "7788                        1.0  ...    1.0\n",
              "7789                        1.0  ...    1.0\n",
              "\n",
              "[7790 rows x 8 columns]"
            ]
          },
          "metadata": {
            "tags": []
          },
          "execution_count": 15
        }
      ]
    },
    {
      "cell_type": "code",
      "metadata": {
        "id": "D8InjTyLA_Tq"
      },
      "source": [
        "privileged_group = [{'Outcome_Arrest': 0}]\n",
        "unprivileged_group = [{'Outcome_Arrest': 1}]"
      ],
      "execution_count": 16,
      "outputs": []
    },
    {
      "cell_type": "code",
      "metadata": {
        "id": "aBbWg3UWA_Tv"
      },
      "source": [
        "def get_disparity_index(di):\n",
        "    return 1 - np.minimum(di, 1 / di)\n",
        "\n",
        "\n",
        "def get_bal_acc(classified_metric):\n",
        "    return 0.5 * (classified_metric.true_positive_rate() + classified_metric.true_negative_rate())\n",
        "\n",
        "\n",
        "def train_lr_model(dataset):\n",
        "    scale = StandardScaler().fit(dataset.features)\n",
        "    model = LogisticRegression(random_state=0, solver='liblinear')\n",
        "    x_train = scale.transform(dataset.features)\n",
        "    y_train = dataset.labels.ravel()\n",
        "    model.fit(x_train, y_train, sample_weight=dataset.instance_weights)\n",
        "    y_train_pred = model.predict(x_train)\n",
        "    return model, scale\n",
        "\n",
        "\n",
        "def test_lr_model(y_data_pred_prob, dataset, thresh_arr):\n",
        "    y_pred = (y_data_pred_prob[:,1] > thresh_arr).astype(np.double)\n",
        "    dataset_pred = dataset.copy()\n",
        "    dataset_pred.labels = y_pred\n",
        "    classified_metric = ClassificationMetric(dataset, dataset_pred, unprivileged_group, privileged_group)\n",
        "    metric_pred = BinaryLabelDatasetMetric(dataset_pred, unprivileged_group, privileged_group)\n",
        "    return dataset_pred.labels, classified_metric, metric_pred\n",
        "\n",
        "\n",
        "def get_y_pred_prob_lr(scale, model, dataset):\n",
        "    x = scale.transform(dataset.features)\n",
        "    y_pred_prob = model.predict_proba(x)\n",
        "    return y_pred_prob\n",
        "\n",
        "\n",
        "def get_best_bal_acc_cutoff(y_pred_prob, dataset):\n",
        "    y_validate_pred_prob = y_pred_prob\n",
        "    bal_acc_arr = []\n",
        "    disp_imp_arr = []\n",
        "\n",
        "    for thresh in tqdm(thresh_arr):\n",
        "        y_validate_pred = (y_validate_pred_prob[:,1] > thresh).astype(np.double)\n",
        "        dataset_pred = dataset.copy()\n",
        "        dataset_pred.labels = y_validate_pred\n",
        "\n",
        "        # Calculate accuracy for each threshold value\n",
        "        classified_metric = ClassificationMetric(dataset, dataset_pred, unprivileged_group, privileged_group)\n",
        "        bal_acc = get_bal_acc(classified_metric)\n",
        "        bal_acc_arr.append(bal_acc)\n",
        "\n",
        "        # Calculate fairness for each threshold value\n",
        "        metric_pred = BinaryLabelDatasetMetric(dataset_pred, unprivileged_group, privileged_group)\n",
        "        disp_imp_arr.append(metric_pred.disparate_impact())\n",
        "\n",
        "    # Find threshold for best accuracy\n",
        "    thresh_arr_best_ind = np.where(bal_acc_arr == np.max(bal_acc_arr))[0][0]\n",
        "    thresh_arr_best = np.array(thresh_arr)[thresh_arr_best_ind]\n",
        "\n",
        "    # Calculate accuracy and fairness at this threshold\n",
        "    best_bal_acc = bal_acc_arr[thresh_arr_best_ind]\n",
        "    disp_imp_at_best_bal_acc = disp_imp_arr[thresh_arr_best_ind]\n",
        "\n",
        "    # Output metrics\n",
        "    acc_metrics = pd.DataFrame({'thresh_arr_best_ind' : thresh_arr_best_ind, \\\n",
        "    'thresh_arr_best' : thresh_arr_best, \\\n",
        "    'best_bal_acc' : best_bal_acc, \\\n",
        "    'disp_imp_at_best_bal_acc' : disp_imp_at_best_bal_acc}, index=[0]).transpose()\n",
        "    return acc_metrics, bal_acc_arr, disp_imp_arr, dataset_pred.labels\n",
        "\n",
        "\n",
        "def plot_acc_vs_fairness(metric, metric_name, bal_acc_arr, thresh_arr_best_ind):\n",
        "    fig, ax1 = plt.subplots(figsize=(10, 7))\n",
        "    ax1.plot(thresh_arr, bal_acc_arr, color='b')\n",
        "    ax1.set_xlabel('Classification Thresholds', fontsize=16, fontweight='bold')\n",
        "    ax1.set_ylabel('Balanced Accuracy', color='b', fontsize=16, fontweight='bold')\n",
        "    ax1.xaxis.set_tick_params(labelsize=14)\n",
        "    ax1.yaxis.set_tick_params(labelsize=14, labelcolor='b')\n",
        "    ax2 = ax1.twinx()\n",
        "    ax2.plot(thresh_arr, metric, color='r')\n",
        "    ax2.set_ylabel(metric_name, color='r', fontsize=16, fontweight='bold')\n",
        "    ax2.axvline(np.array(thresh_arr)[thresh_arr_best_ind], color='k', linestyle=':')\n",
        "    ax2.yaxis.set_tick_params(labelsize=14, labelcolor='r')\n",
        "    ax2.grid(True)"
      ],
      "execution_count": 27,
      "outputs": []
    },
    {
      "cell_type": "code",
      "metadata": {
        "colab": {
          "base_uri": "https://localhost:8080/"
        },
        "id": "kwSr-A2kA_Tr",
        "outputId": "454b999e-7972-471d-c864-87f385e4c1a5"
      },
      "source": [
        "df_orig_trn, df_orig_val, df_orig_tst = df_aif.split([0.5, 0.8], shuffle=True)\n",
        "print([x.features.shape for x in [df_orig_trn, df_orig_val, df_orig_tst]])"
      ],
      "execution_count": 17,
      "outputs": [
        {
          "output_type": "stream",
          "text": [
            "[(3895, 6), (2337, 6), (1558, 6)]\n"
          ],
          "name": "stdout"
        }
      ]
    },
    {
      "cell_type": "code",
      "metadata": {
        "colab": {
          "base_uri": "https://localhost:8080/"
        },
        "id": "gi-NWKt_A_Ts",
        "outputId": "ac1ceeea-b957-483b-a617-906f2f486ad4"
      },
      "source": [
        "from aif360.algorithms import Transformer\n",
        "from aif360.metrics import BinaryLabelDatasetMetric\n",
        "metric_orig_trn = BinaryLabelDatasetMetric(df_orig_trn, unprivileged_group, privileged_group)\n",
        "print('1-min(DI, 1/DI):', get_disparity_index(metric_orig_trn.disparate_impact()).round(3))"
      ],
      "execution_count": 28,
      "outputs": [
        {
          "output_type": "stream",
          "text": [
            "1-min(DI, 1/DI): 0.057\n"
          ],
          "name": "stdout"
        }
      ]
    },
    {
      "cell_type": "code",
      "metadata": {
        "id": "PBxaeZb6A_Tt"
      },
      "source": [
        "lr_orig, lr_scale_orig = train_lr_model(df_orig_trn)\n",
        "thresh_arr = np.linspace(0.01, 0.8, 100)\n",
        "y_validate_pred_prob_orig = get_y_pred_prob_lr(scale=lr_scale_orig, model=lr_orig, dataset=df_orig_val)\n"
      ],
      "execution_count": 29,
      "outputs": []
    },
    {
      "cell_type": "code",
      "metadata": {
        "id": "8_wPk3eoA_Tt"
      },
      "source": [
        ""
      ],
      "execution_count": null,
      "outputs": []
    },
    {
      "cell_type": "code",
      "metadata": {
        "colab": {
          "base_uri": "https://localhost:8080/"
        },
        "id": "f9gORRJaA_Tu",
        "outputId": "6b8b0c33-7bfb-48ba-d667-7051fc3d743b"
      },
      "source": [
        "from aif360.metrics import ClassificationMetric\n",
        "acc_metrics_orig, bal_acc_arr_orig, disp_imp_arr_orig, dataset_pred_labels_orig = \\\n",
        "get_best_bal_acc_cutoff(y_pred_prob=y_validate_pred_prob_orig, dataset=df_orig_val)"
      ],
      "execution_count": 30,
      "outputs": [
        {
          "output_type": "stream",
          "text": [
            "100%|██████████| 100/100 [00:00<00:00, 578.68it/s]\n"
          ],
          "name": "stderr"
        }
      ]
    },
    {
      "cell_type": "code",
      "metadata": {
        "colab": {
          "base_uri": "https://localhost:8080/"
        },
        "id": "GYV8Y-MNA_Tx",
        "outputId": "1ea03957-18b6-4e3c-f58b-7d547e02d272"
      },
      "source": [
        "print('Threshold corresponding to best balanced accuracy:', acc_metrics_orig.loc['thresh_arr_best', 0].round(3))\n",
        "print('Best balanced accuracy:', acc_metrics_orig.loc['best_bal_acc', 0].round(3))\n",
        "print('1-min(DI, 1/DI):', get_disparity_index(acc_metrics_orig.loc['disp_imp_at_best_bal_acc', 0]).round(3))"
      ],
      "execution_count": 31,
      "outputs": [
        {
          "output_type": "stream",
          "text": [
            "Threshold corresponding to best balanced accuracy: 0.736\n",
            "Best balanced accuracy: 0.691\n",
            "1-min(DI, 1/DI): 0.001\n"
          ],
          "name": "stdout"
        }
      ]
    },
    {
      "cell_type": "code",
      "metadata": {
        "colab": {
          "base_uri": "https://localhost:8080/",
          "height": 456
        },
        "id": "ZqlmKzzzA_Tz",
        "outputId": "3276fe8b-a358-4ee3-bbbe-77132d3b57df"
      },
      "source": [
        "plot_acc_vs_fairness(get_disparity_index(np.array(disp_imp_arr_orig)), \\\n",
        "  '1-min(DI, 1/DI)', bal_acc_arr_orig, \\\n",
        "  acc_metrics_orig.loc['thresh_arr_best_ind', 0].astype(int))"
      ],
      "execution_count": 32,
      "outputs": [
        {
          "output_type": "display_data",
          "data": {
            "image/png": "[encoded data removed]",
            "text/plain": [
              "<Figure size 720x504 with 2 Axes>"
            ]
          },
          "metadata": {
            "tags": [],
            "needs_background": "light"
          }
        }
      ]
    },
    {
      "cell_type": "code",
      "metadata": {
        "id": "T5ph2Ry2A_T0"
      },
      "source": [
        ""
      ],
      "execution_count": null,
      "outputs": []
    }
  ]
}