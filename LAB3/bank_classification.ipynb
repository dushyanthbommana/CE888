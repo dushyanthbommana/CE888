{
  "nbformat": 4,
  "nbformat_minor": 0,
  "metadata": {
    "kernelspec": {
      "display_name": "Python 3",
      "language": "python",
      "name": "python3"
    },
    "language_info": {
      "codemirror_mode": {
        "name": "ipython",
        "version": 3
      },
      "file_extension": ".py",
      "mimetype": "text/x-python",
      "name": "python",
      "nbconvert_exporter": "python",
      "pygments_lexer": "ipython3",
      "version": "3.7.4"
    },
    "colab": {
      "name": "bank_classification.ipynb",
      "provenance": [],
      "collapsed_sections": [],
      "include_colab_link": true
    },
    "accelerator": "GPU"
  },
  "cells": [
    {
      "cell_type": "markdown",
      "metadata": {
        "id": "view-in-github",
        "colab_type": "text"
      },
      "source": [
        "<a href=\"https://colab.research.google.com/github/dushyanthbommana/CE888/blob/main/LAB3/bank_classification.ipynb\" target=\"_parent\"><img src=\"https://colab.research.google.com/assets/colab-badge.svg\" alt=\"Open In Colab\"/></a>"
      ]
    },
    {
      "cell_type": "code",
      "metadata": {
        "id": "JRUc6BDLkCej"
      },
      "source": [
        "%matplotlib inline\n",
        "import matplotlib\n",
        "import numpy as np\n",
        "import matplotlib.pyplot as plt\n",
        "import pandas as pd\n",
        "import seaborn as sns"
      ],
      "execution_count": null,
      "outputs": []
    },
    {
      "cell_type": "code",
      "metadata": {
        "id": "rvbeswSkkCeq"
      },
      "source": [
        "from sklearn.tree import DecisionTreeRegressor\n",
        "from sklearn.ensemble import RandomForestClassifier, ExtraTreesClassifier\n",
        "from sklearn.model_selection import cross_val_score\n",
        "from sklearn.metrics import mean_squared_error as mse\n",
        "from sklearn.metrics import mean_absolute_error as mae\n",
        "from sklearn.metrics import accuracy_score as acc\n",
        "from sklearn.metrics import make_scorer, confusion_matrix\n",
        "from sklearn.dummy import DummyRegressor, DummyClassifier\n",
        "from sklearn.preprocessing import LabelEncoder"
      ],
      "execution_count": null,
      "outputs": []
    },
    {
      "cell_type": "code",
      "metadata": {
        "id": "UmcPXXYbkCer"
      },
      "source": [
        "df = pd.read_csv(\"https://raw.githubusercontent.com/albanda/CE888/master/lab3/bank-additional-full.csv\", delimiter = \";\")\n"
      ],
      "execution_count": null,
      "outputs": []
    },
    {
      "cell_type": "code",
      "metadata": {
        "id": "njikog4UkCet"
      },
      "source": [
        "len(df)"
      ],
      "execution_count": null,
      "outputs": []
    },
    {
      "cell_type": "code",
      "metadata": {
        "id": "DAbQuVq9kCev"
      },
      "source": [
        "df.head()"
      ],
      "execution_count": null,
      "outputs": []
    },
    {
      "cell_type": "code",
      "metadata": {
        "id": "mS2fsbIml2jC"
      },
      "source": [
        "df.info()"
      ],
      "execution_count": null,
      "outputs": []
    },
    {
      "cell_type": "code",
      "metadata": {
        "id": "f6ZeP5zYkCev"
      },
      "source": [
        "df.isna().sum().sum()"
      ],
      "execution_count": null,
      "outputs": []
    },
    {
      "cell_type": "code",
      "metadata": {
        "id": "3Or48jV4kCew"
      },
      "source": [
        "df.columns.values"
      ],
      "execution_count": null,
      "outputs": []
    },
    {
      "cell_type": "markdown",
      "metadata": {
        "id": "62I1LjpRkCew"
      },
      "source": [
        "drop duration column"
      ]
    },
    {
      "cell_type": "code",
      "metadata": {
        "id": "E97qDq8ZkCew"
      },
      "source": [
        "df.drop('duration', inplace=True, axis=1)"
      ],
      "execution_count": null,
      "outputs": []
    },
    {
      "cell_type": "markdown",
      "metadata": {
        "id": "eIUmpiblkCew"
      },
      "source": [
        "label encode only the target columns which is y "
      ]
    },
    {
      "cell_type": "code",
      "metadata": {
        "id": "sqO8JAtQkCex"
      },
      "source": [
        "from sklearn import preprocessing\n",
        "label_encoder = preprocessing.LabelEncoder()\n",
        "df['y']= label_encoder.fit_transform(df['y'])\n",
        "df['y'].unique()"
      ],
      "execution_count": null,
      "outputs": []
    },
    {
      "cell_type": "code",
      "metadata": {
        "id": "wrjelviDkCex"
      },
      "source": [
        "features = [\"age\", \"job\", \"marital\", \"education\", \"default\", \"housing\", \"loan\",\n",
        "       \"contact\", \"month\", \"day_of_week\", \"campaign\", \"pdays\",\n",
        "       \"previous\", \"poutcome\", \"emp.var.rate\", \"cons.price.idx\",\n",
        "       \"cons.conf.idx\", \"euribor3m\", \"nr.employed\"]\n",
        "\n",
        "\n",
        "df[features].head()"
      ],
      "execution_count": null,
      "outputs": []
    },
    {
      "cell_type": "code",
      "metadata": {
        "id": "EPOHLo9TkCex"
      },
      "source": [
        "df.month.unique()"
      ],
      "execution_count": null,
      "outputs": []
    },
    {
      "cell_type": "code",
      "metadata": {
        "id": "YaYrONzLkCey"
      },
      "source": [
        "df['y'].head()"
      ],
      "execution_count": null,
      "outputs": []
    },
    {
      "cell_type": "code",
      "metadata": {
        "id": "xAHvDkSJkCey"
      },
      "source": [
        "df_dummies_features = pd.get_dummies(df[features])"
      ],
      "execution_count": null,
      "outputs": []
    },
    {
      "cell_type": "code",
      "metadata": {
        "scrolled": true,
        "id": "1OT8Nd0CkCey"
      },
      "source": [
        "df_dummies_features.head()"
      ],
      "execution_count": null,
      "outputs": []
    },
    {
      "cell_type": "code",
      "metadata": {
        "id": "w4dDO_sDkCey"
      },
      "source": [
        "df_dummies_features.info()"
      ],
      "execution_count": null,
      "outputs": []
    },
    {
      "cell_type": "code",
      "metadata": {
        "id": "LjjOxmf7kCez"
      },
      "source": [
        "df_dummies_features.columns.values"
      ],
      "execution_count": null,
      "outputs": []
    },
    {
      "cell_type": "code",
      "metadata": {
        "id": "Fvv3wc4ykCez"
      },
      "source": [
        "df_dummies_features.dropna(axis=0,inplace=True)"
      ],
      "execution_count": null,
      "outputs": []
    },
    {
      "cell_type": "code",
      "metadata": {
        "id": "kQSIW9lYkCez"
      },
      "source": [
        "len(df_dummies_features)"
      ],
      "execution_count": null,
      "outputs": []
    },
    {
      "cell_type": "code",
      "metadata": {
        "id": "DNW1g707kCez"
      },
      "source": [
        "df_dummies_features.isnull().sum()"
      ],
      "execution_count": null,
      "outputs": []
    },
    {
      "cell_type": "code",
      "metadata": {
        "id": "OkblSYJakCez"
      },
      "source": [
        "df['y'].hist()"
      ],
      "execution_count": null,
      "outputs": []
    },
    {
      "cell_type": "markdown",
      "metadata": {
        "id": "TKGSWK71kCe0"
      },
      "source": [
        "calculating imbalance in the target variable"
      ]
    },
    {
      "cell_type": "code",
      "metadata": {
        "id": "L38SQxC9kCe0"
      },
      "source": [
        "class_count_0, class_count_1 = df['y'].value_counts()\n",
        "class_0 = df[df['y'] == 0]\n",
        "class_1 = df[df['y'] == 1]\n",
        "print('class 0:', class_0.shape)\n",
        "print('class 1:', class_1.shape)"
      ],
      "execution_count": null,
      "outputs": []
    },
    {
      "cell_type": "code",
      "metadata": {
        "id": "OFXT3DA1kCe1"
      },
      "source": [
        "import imblearn\n",
        "import collections\n",
        "from collections import Counter\n",
        "from sklearn.model_selection import train_test_split"
      ],
      "execution_count": null,
      "outputs": []
    },
    {
      "cell_type": "code",
      "metadata": {
        "id": "fk8aCeaCkCe1"
      },
      "source": [
        "X=df_dummies_features\n",
        "Y=df['y']"
      ],
      "execution_count": null,
      "outputs": []
    },
    {
      "cell_type": "markdown",
      "metadata": {
        "id": "Eja5wV73kCe1"
      },
      "source": [
        "MODELLING THE DATA"
      ]
    },
    {
      "cell_type": "code",
      "metadata": {
        "id": "E8M0td_6kCe1"
      },
      "source": [
        "X_train, X_test, y_train, y_test = train_test_split(X, Y, test_size=0.20, random_state=50, stratify=Y)"
      ],
      "execution_count": null,
      "outputs": []
    },
    {
      "cell_type": "code",
      "metadata": {
        "id": "sxtT0Ln4kCe1"
      },
      "source": [
        "from numpy import mean\n",
        "from numpy import std\n",
        "from sklearn.datasets import make_classification\n",
        "from sklearn.model_selection import cross_val_score\n",
        "from sklearn.model_selection import RepeatedStratifiedKFold\n",
        "from sklearn.metrics import classification_report, confusion_matrix\n",
        "from sklearn.ensemble import RandomForestClassifier"
      ],
      "execution_count": null,
      "outputs": []
    },
    {
      "cell_type": "code",
      "metadata": {
        "id": "zAu-2FgikCe2"
      },
      "source": [
        "model = RandomForestClassifier(max_depth=6,n_estimators=750,random_state=60)\n",
        "model.fit(X_train,y_train)\n",
        "model_predict=model.predict(X_test)"
      ],
      "execution_count": null,
      "outputs": []
    },
    {
      "cell_type": "code",
      "metadata": {
        "id": "YvWInXLTkCe2"
      },
      "source": [
        "import pandas as pd\n",
        "feature_importances = pd.DataFrame(model.feature_importances_,\n",
        "                                   index = X_train.columns,\n",
        "                                    columns=['importance']).sort_values('importance',ascending=False)\n",
        "feature_importances"
      ],
      "execution_count": null,
      "outputs": []
    },
    {
      "cell_type": "code",
      "metadata": {
        "id": "F-cEWIlckCe3"
      },
      "source": [
        "cv = RepeatedStratifiedKFold(n_splits=10)\n",
        "n_scores = cross_val_score(model, X, Y, scoring='accuracy', cv=cv, n_jobs=-1, error_score='raise')"
      ],
      "execution_count": null,
      "outputs": []
    },
    {
      "cell_type": "code",
      "metadata": {
        "id": "GGp2_N-7kCe2"
      },
      "source": [
        "print(\"=== Confusion Matrix ===\")\n",
        "print(confusion_matrix(y_test, model_predict))\n",
        "print('\\n')\n",
        "print(\"=== Classification Report ===\")\n",
        "print(classification_report(y_test, model_predict))\n",
        "print('\\n')"
      ],
      "execution_count": null,
      "outputs": []
    },
    {
      "cell_type": "code",
      "metadata": {
        "id": "g1jM7ly8kCe3"
      },
      "source": [
        "print('Accuracy: %.3f (%.3f)' % (mean(n_scores), std(n_scores)))"
      ],
      "execution_count": null,
      "outputs": []
    },
    {
      "cell_type": "markdown",
      "metadata": {
        "id": "7tppnHNskCe3"
      },
      "source": [
        "Training dummy classifier"
      ]
    },
    {
      "cell_type": "code",
      "metadata": {
        "id": "S0rvNIiNkCe4"
      },
      "source": [
        "dumm_clf = DummyClassifier(strategy='stratified')\n",
        "dumm_clf.fit(X, Y)\n",
        "print(\"Dummy ACC: %.2f\" % acc(Y, dumm_clf.predict(X)))"
      ],
      "execution_count": null,
      "outputs": []
    },
    {
      "cell_type": "markdown",
      "metadata": {
        "id": "-P1ocv4nkCe4"
      },
      "source": [
        "grid search cv on random forest classifier"
      ]
    },
    {
      "cell_type": "code",
      "metadata": {
        "id": "J-5c3syLkCe4"
      },
      "source": [
        "param_grid = { \n",
        "    'n_estimators': [100, 200,300],\n",
        "    'max_depth' : [5,7,9,11],\n",
        "    'max_features': ['auto', 'sqrt', 'log2'],\n",
        "    'criterion' :['gini', 'entropy']\n",
        "}\n"
      ],
      "execution_count": null,
      "outputs": []
    },
    {
      "cell_type": "code",
      "metadata": {
        "id": "oYtl4S2VkCe4"
      },
      "source": [
        "from sklearn.model_selection import GridSearchCV\n",
        "model1=RandomForestClassifier()\n",
        "CV_rfc = GridSearchCV(estimator=model1, param_grid=param_grid, cv= 5)\n",
        "CV_rfc.fit(X_train, y_train)"
      ],
      "execution_count": null,
      "outputs": []
    },
    {
      "cell_type": "code",
      "metadata": {
        "id": "sUaqX5A9kCe5"
      },
      "source": [
        "CV_rfc.best_params_"
      ],
      "execution_count": null,
      "outputs": []
    },
    {
      "cell_type": "code",
      "metadata": {
        "id": "njdmP08ZkCe5"
      },
      "source": [
        "from sklearn.metrics import accuracy_score\n",
        "pred=CV_rfc.predict(X_test)\n",
        "print(\"Accuracy for Random Forest on CV data: \",accuracy_score(y_test,pred))"
      ],
      "execution_count": null,
      "outputs": []
    },
    {
      "cell_type": "code",
      "metadata": {
        "id": "4B6Q7XyYkCe5"
      },
      "source": [
        "y_error = ((y_test - pred)**2).mean()\n",
        "y_error"
      ],
      "execution_count": null,
      "outputs": []
    }
  ]
}